{
 "cells": [
  {
   "cell_type": "code",
   "execution_count": 1,
   "id": "4d76885e-b295-43c5-8d7c-81da5cb744dd",
   "metadata": {},
   "outputs": [],
   "source": [
    "import numpy as np\n",
    "import pandas as pd"
   ]
  },
  {
   "cell_type": "code",
   "execution_count": 2,
   "id": "4d5d03b1-a121-4136-909b-09b98aefb2f5",
   "metadata": {},
   "outputs": [],
   "source": [
    "case = pd.read_csv('dataset/case.csv')\n",
    "case_cooler = pd.read_csv('dataset/case_cooler.csv')\n",
    "cpu = pd.read_csv('dataset/cpu.csv')\n",
    "cpu_cooler = pd.read_csv('dataset/cpu_cooler.csv')\n",
    "gpu = pd.read_csv('dataset/gpu.csv')\n",
    "main = pd.read_csv('dataset/main.csv')\n",
    "psu = pd.read_csv('dataset/psu.csv')\n",
    "ram = pd.read_csv('dataset/ram.csv')\n",
    "storage = pd.read_csv('dataset/storage.csv')"
   ]
  },
  {
   "cell_type": "code",
   "execution_count": 3,
   "id": "9645f390-f717-4ce3-aec0-63134e563359",
   "metadata": {},
   "outputs": [
    {
     "data": {
      "text/html": [
       "<div>\n",
       "<style scoped>\n",
       "    .dataframe tbody tr th:only-of-type {\n",
       "        vertical-align: middle;\n",
       "    }\n",
       "\n",
       "    .dataframe tbody tr th {\n",
       "        vertical-align: top;\n",
       "    }\n",
       "\n",
       "    .dataframe thead th {\n",
       "        text-align: right;\n",
       "    }\n",
       "</style>\n",
       "<table border=\"1\" class=\"dataframe\">\n",
       "  <thead>\n",
       "    <tr style=\"text-align: right;\">\n",
       "      <th></th>\n",
       "      <th>Model</th>\n",
       "      <th>Brand</th>\n",
       "      <th>Capacity</th>\n",
       "      <th>Type</th>\n",
       "      <th>RPM</th>\n",
       "      <th>Interface</th>\n",
       "      <th>Cache Memory</th>\n",
       "      <th>Form Factor</th>\n",
       "      <th>Price</th>\n",
       "      <th>Amazon URL</th>\n",
       "    </tr>\n",
       "  </thead>\n",
       "  <tbody>\n",
       "    <tr>\n",
       "      <th>0</th>\n",
       "      <td>970 EVO</td>\n",
       "      <td>Samsung</td>\n",
       "      <td>1 TB</td>\n",
       "      <td>SSD</td>\n",
       "      <td>7200 RPM</td>\n",
       "      <td>PCIe 3.0 x4</td>\n",
       "      <td>1024 MB</td>\n",
       "      <td>M.2-2280</td>\n",
       "      <td>219.99</td>\n",
       "      <td>https://amazon.com/dp/B07BN217QG?tag=pcbuilder...</td>\n",
       "    </tr>\n",
       "    <tr>\n",
       "      <th>1</th>\n",
       "      <td>A400</td>\n",
       "      <td>Kingston</td>\n",
       "      <td>240 GB</td>\n",
       "      <td>SSD</td>\n",
       "      <td>7200 RPM</td>\n",
       "      <td>SATA III</td>\n",
       "      <td>No cache</td>\n",
       "      <td>2.5\"</td>\n",
       "      <td>19.99</td>\n",
       "      <td>https://www.amazon.com/dp/B01N5IB20Q?tag=pcbui...</td>\n",
       "    </tr>\n",
       "    <tr>\n",
       "      <th>2</th>\n",
       "      <td>BarraCuda</td>\n",
       "      <td>Seagate</td>\n",
       "      <td>2 TB</td>\n",
       "      <td>HHD</td>\n",
       "      <td>7200 RPM</td>\n",
       "      <td>SATA III</td>\n",
       "      <td>256 MB</td>\n",
       "      <td>3.5\"</td>\n",
       "      <td>55.49</td>\n",
       "      <td>https://amazon.com/dp/B075WWN4QJ?tag=pcbuilder...</td>\n",
       "    </tr>\n",
       "    <tr>\n",
       "      <th>3</th>\n",
       "      <td>Blue</td>\n",
       "      <td>Western Digital</td>\n",
       "      <td>1 TB</td>\n",
       "      <td>SSD</td>\n",
       "      <td>7200 RPM</td>\n",
       "      <td>SATA III 6Gb/s</td>\n",
       "      <td>No cache</td>\n",
       "      <td>M.2-2280</td>\n",
       "      <td>122.11</td>\n",
       "      <td>https://www.amazon.com/dp/B073SB2MXT?tag=pcbui...</td>\n",
       "    </tr>\n",
       "    <tr>\n",
       "      <th>4</th>\n",
       "      <td>Blue 500</td>\n",
       "      <td>Western Digital</td>\n",
       "      <td>500 GB</td>\n",
       "      <td>SSD</td>\n",
       "      <td>7200 RPM</td>\n",
       "      <td>SATA III 6Gb/s</td>\n",
       "      <td>No cache</td>\n",
       "      <td>M.2-2280</td>\n",
       "      <td>68.00</td>\n",
       "      <td>https://www.amazon.com/dp/B073SBX6TY?tag=pcbui...</td>\n",
       "    </tr>\n",
       "  </tbody>\n",
       "</table>\n",
       "</div>"
      ],
      "text/plain": [
       "       Model            Brand Capacity Type       RPM       Interface  \\\n",
       "0    970 EVO          Samsung     1 TB  SSD  7200 RPM     PCIe 3.0 x4   \n",
       "1       A400         Kingston   240 GB  SSD  7200 RPM        SATA III   \n",
       "2  BarraCuda          Seagate     2 TB  HHD  7200 RPM        SATA III   \n",
       "3       Blue  Western Digital     1 TB  SSD  7200 RPM  SATA III 6Gb/s   \n",
       "4   Blue 500  Western Digital   500 GB  SSD  7200 RPM  SATA III 6Gb/s   \n",
       "\n",
       "  Cache Memory Form Factor   Price  \\\n",
       "0      1024 MB    M.2-2280  219.99   \n",
       "1     No cache        2.5\"   19.99   \n",
       "2       256 MB        3.5\"   55.49   \n",
       "3     No cache    M.2-2280  122.11   \n",
       "4     No cache    M.2-2280   68.00   \n",
       "\n",
       "                                          Amazon URL  \n",
       "0  https://amazon.com/dp/B07BN217QG?tag=pcbuilder...  \n",
       "1  https://www.amazon.com/dp/B01N5IB20Q?tag=pcbui...  \n",
       "2  https://amazon.com/dp/B075WWN4QJ?tag=pcbuilder...  \n",
       "3  https://www.amazon.com/dp/B073SB2MXT?tag=pcbui...  \n",
       "4  https://www.amazon.com/dp/B073SBX6TY?tag=pcbui...  "
      ]
     },
     "execution_count": 3,
     "metadata": {},
     "output_type": "execute_result"
    }
   ],
   "source": [
    "storage.head()"
   ]
  },
  {
   "cell_type": "code",
   "execution_count": 4,
   "id": "663cdc5b-dd66-407e-9870-a26fbd134e53",
   "metadata": {},
   "outputs": [],
   "source": [
    "case['tag'] = case['Brand'] + ' ' + case['Side Panel']+ ' '  + case['Carbinet Type'] + ' ' + case['Color'] + ' ' + case['Motherboard Support']+ ' '  + case['Max GPU Length']+ ' '  + case['CPU Cooler Height'] + ' ' + case['Supported PSU Size']\n",
    "case_cooler['tag'] = case_cooler['Brand'] + ' ' + case_cooler['Fan RPM']+ ' '  + case_cooler['Airflow'] + ' ' + case_cooler['Noise Level'] \n",
    "cpu['tag'] = cpu['Brand'] + ' ' + str(cpu['Cores']) + ' '  + str(cpu['Threads']) + ' ' + cpu['Socket Type'] + ' ' + cpu['Memory Type'] + ' ' + cpu['Memory Speed']+ ' ' + cpu['Base Speed']+ ' ' + cpu['Turbo Speed']+ ' ' + cpu['Max Power Consumption']\n",
    "cpu_cooler['tag'] = cpu_cooler['Brand'] + ' ' + cpu_cooler['Fan RPM'] + ' '  + cpu_cooler['Noise Level'] + ' ' + cpu_cooler['Color'] \n",
    "gpu['tag'] = gpu['Brand'] + ' ' + gpu['Memory'] + ' '  + gpu['Memory Interface'] + ' ' + gpu['Length'] + ' ' + gpu['Interface'] + ' ' + gpu['Chipset'] + ' ' + gpu['Max Power Consumption'] \n",
    "main['tag'] = main['Brand'] + ' ' + main['Chipset'] + ' '  + main['Form Factor'] + ' ' + main['Socket Type'] + ' ' + main['Memory Type'] + ' ' + main['Memory Speed'] + ' ' + main['Storage Expansion'] +' ' + main['Multi-GPU Support']\n",
    "psu['tag'] = psu['Brand'] + ' ' + psu['Power'] + ' '  + psu['Efficiency'] + ' ' + psu['Color'] \n",
    "ram['tag'] = ram['Brand'] + ' ' + ram['RAM Size'] + ' '  + ram['Quantity'] + ' ' + ram['RAM Type'] + ' ' + ram['RAM Speed'] \n",
    "storage['tag'] = storage['Brand'] + ' ' + storage['Capacity'] + ' '  + storage['Type'] + ' ' + storage['RPM'] + ' ' + storage['Interface'] + ' ' + storage['Cache Memory'] + ' ' + storage['Form Factor'] "
   ]
  },
  {
   "cell_type": "code",
   "execution_count": 5,
   "id": "a80913a5-19d1-4d67-8a02-8661d4ec8cfb",
   "metadata": {},
   "outputs": [],
   "source": [
    "case['tag'] = case['tag'].apply(lambda x:x.lower())\n",
    "case_cooler['tag'] = case_cooler['tag'].apply(lambda x:x.lower())\n",
    "cpu['tag'] = cpu['tag'].apply(lambda x:x.lower())\n",
    "cpu_cooler['tag'] = cpu_cooler['tag'].apply(lambda x:x.lower())\n",
    "gpu['tag'] = gpu['tag'].apply(lambda x:x.lower())\n",
    "main['tag'] = main['tag'].apply(lambda x:x.lower())\n",
    "psu['tag'] = psu['tag'].apply(lambda x:x.lower())\n",
    "ram['tag'] = ram['tag'].apply(lambda x:x.lower())\n",
    "storage['tag'] = storage['tag'].apply(lambda x:x.lower())"
   ]
  },
  {
   "cell_type": "code",
   "execution_count": 9,
   "id": "9f1d61a8-14b0-46cb-ae9f-03d36c482fa0",
   "metadata": {},
   "outputs": [],
   "source": [
    "frames = [case[['Model', 'tag']], case_cooler[['Model', 'tag']], cpu[['Model', 'tag']], cpu_cooler[['Model', 'tag']], gpu[['Model', 'tag']], main[['Model', 'tag']], psu[['Model', 'tag']], ram[['Model', 'tag']], storage[['Model', 'tag']]]\n",
    "result = pd.concat(frames)"
   ]
  },
  {
   "cell_type": "code",
   "execution_count": 11,
   "id": "f115b396-1615-4935-8532-581d4cf88beb",
   "metadata": {},
   "outputs": [
    {
     "data": {
      "text/html": [
       "<div>\n",
       "<style scoped>\n",
       "    .dataframe tbody tr th:only-of-type {\n",
       "        vertical-align: middle;\n",
       "    }\n",
       "\n",
       "    .dataframe tbody tr th {\n",
       "        vertical-align: top;\n",
       "    }\n",
       "\n",
       "    .dataframe thead th {\n",
       "        text-align: right;\n",
       "    }\n",
       "</style>\n",
       "<table border=\"1\" class=\"dataframe\">\n",
       "  <thead>\n",
       "    <tr style=\"text-align: right;\">\n",
       "      <th></th>\n",
       "      <th>Model</th>\n",
       "      <th>tag</th>\n",
       "    </tr>\n",
       "  </thead>\n",
       "  <tbody>\n",
       "    <tr>\n",
       "      <th>0</th>\n",
       "      <td>4000D Airflow</td>\n",
       "      <td>cosair tinted tempered glass atx mid tower whi...</td>\n",
       "    </tr>\n",
       "    <tr>\n",
       "      <th>1</th>\n",
       "      <td>CARBIDE SPEC-05</td>\n",
       "      <td>cosair acrylic atx mid tower black atx, micro-...</td>\n",
       "    </tr>\n",
       "    <tr>\n",
       "      <th>2</th>\n",
       "      <td>Carbide SPEC-Omega</td>\n",
       "      <td>cosair tempered glass atx mid tower black atx,...</td>\n",
       "    </tr>\n",
       "    <tr>\n",
       "      <th>3</th>\n",
       "      <td>CC-9011205-WW</td>\n",
       "      <td>cosair tempered glass atx mid tower white atx,...</td>\n",
       "    </tr>\n",
       "    <tr>\n",
       "      <th>4</th>\n",
       "      <td>H510 Elite</td>\n",
       "      <td>nzxt tempered glass, steel atx mid tower white...</td>\n",
       "    </tr>\n",
       "    <tr>\n",
       "      <th>...</th>\n",
       "      <td>...</td>\n",
       "      <td>...</td>\n",
       "    </tr>\n",
       "    <tr>\n",
       "      <th>11</th>\n",
       "      <td>Trident Z5 RGB</td>\n",
       "      <td>g.skill 32 gb 2x16 gb ddr5 6400 mhz</td>\n",
       "    </tr>\n",
       "    <tr>\n",
       "      <th>12</th>\n",
       "      <td>Vengeance LPX</td>\n",
       "      <td>corsair 16 gb 2x8 gb ddr4 4600 mhz</td>\n",
       "    </tr>\n",
       "    <tr>\n",
       "      <th>13</th>\n",
       "      <td>Viper Venom RGB</td>\n",
       "      <td>patriot memory 32 gb 2x16 gb ddr5 6000 mhz</td>\n",
       "    </tr>\n",
       "    <tr>\n",
       "      <th>14</th>\n",
       "      <td>XLR8</td>\n",
       "      <td>pny 32 gb 2x16 gb ddr5 6200 mhz</td>\n",
       "    </tr>\n",
       "    <tr>\n",
       "      <th>0</th>\n",
       "      <td>970 EVO</td>\n",
       "      <td>samsung 1 tb ssd 7200 rpm pcie 3.0 x4 1024 mb ...</td>\n",
       "    </tr>\n",
       "  </tbody>\n",
       "</table>\n",
       "<p>100 rows × 2 columns</p>\n",
       "</div>"
      ],
      "text/plain": [
       "                 Model                                                tag\n",
       "0        4000D Airflow  cosair tinted tempered glass atx mid tower whi...\n",
       "1      CARBIDE SPEC-05  cosair acrylic atx mid tower black atx, micro-...\n",
       "2   Carbide SPEC-Omega  cosair tempered glass atx mid tower black atx,...\n",
       "3        CC-9011205-WW  cosair tempered glass atx mid tower white atx,...\n",
       "4           H510 Elite  nzxt tempered glass, steel atx mid tower white...\n",
       "..                 ...                                                ...\n",
       "11      Trident Z5 RGB                g.skill 32 gb 2x16 gb ddr5 6400 mhz\n",
       "12       Vengeance LPX                 corsair 16 gb 2x8 gb ddr4 4600 mhz\n",
       "13     Viper Venom RGB         patriot memory 32 gb 2x16 gb ddr5 6000 mhz\n",
       "14                XLR8                    pny 32 gb 2x16 gb ddr5 6200 mhz\n",
       "0              970 EVO  samsung 1 tb ssd 7200 rpm pcie 3.0 x4 1024 mb ...\n",
       "\n",
       "[100 rows x 2 columns]"
      ]
     },
     "execution_count": 11,
     "metadata": {},
     "output_type": "execute_result"
    }
   ],
   "source": [
    "result.head(100)"
   ]
  },
  {
   "cell_type": "code",
   "execution_count": 15,
   "id": "2c70319c-1b82-417c-9ab3-42e1b18f98f7",
   "metadata": {},
   "outputs": [],
   "source": [
    "result['tag'] = result['tag'].apply(lambda x:x.lower())"
   ]
  },
  {
   "cell_type": "code",
   "execution_count": 16,
   "id": "2099689a-69e7-4d51-85d6-57421e3e946a",
   "metadata": {},
   "outputs": [
    {
     "data": {
      "text/plain": [
       "'zotac 24gb gddr6x 356 mm pcie 4.0 x16 geforce rtx 3090ti 450 w'"
      ]
     },
     "execution_count": 16,
     "metadata": {},
     "output_type": "execute_result"
    }
   ],
   "source": [
    "result.iloc[50].tag"
   ]
  },
  {
   "cell_type": "code",
   "execution_count": 17,
   "id": "05e1db8d-3f09-4775-b095-4e18d74c40a4",
   "metadata": {},
   "outputs": [],
   "source": [
    "import nltk\n",
    "from nltk.stem import PorterStemmer"
   ]
  },
  {
   "cell_type": "code",
   "execution_count": 18,
   "id": "20fca82a-2612-46e8-9d67-5eab7ad9d357",
   "metadata": {},
   "outputs": [],
   "source": [
    "ps = PorterStemmer()"
   ]
  },
  {
   "cell_type": "code",
   "execution_count": 19,
   "id": "cab7e09c-9922-4b21-a5d0-79077b01f577",
   "metadata": {},
   "outputs": [],
   "source": [
    "def stems(text):\n",
    "    l = []\n",
    "    for i in text.split():\n",
    "        l.append(ps.stem(i))\n",
    "\n",
    "    return \" \".join(l)"
   ]
  },
  {
   "cell_type": "code",
   "execution_count": 20,
   "id": "220f26d3-706f-4772-b526-688fa0456802",
   "metadata": {},
   "outputs": [],
   "source": [
    "result['tag'] = result['tag'].apply(stems)"
   ]
  },
  {
   "cell_type": "code",
   "execution_count": 21,
   "id": "b038f6b4-bb90-4917-acde-5c89f8f218a7",
   "metadata": {},
   "outputs": [
    {
     "data": {
      "text/plain": [
       "'cosair acrylic atx mid tower black atx, micro-atx, mini-itx 370 mm 165 mm atxarctic 1800 rpm 56.3 cfm 25.2dba'"
      ]
     },
     "execution_count": 21,
     "metadata": {},
     "output_type": "execute_result"
    }
   ],
   "source": [
    "new_df.iloc[1]['tag']"
   ]
  },
  {
   "cell_type": "code",
   "execution_count": 22,
   "id": "4e9df115-8254-40b6-9653-e15bfe197b2c",
   "metadata": {},
   "outputs": [],
   "source": [
    "from sklearn.feature_extraction.text import CountVectorizer\n",
    "cv = CountVectorizer(max_features=5000, stop_words='english')"
   ]
  },
  {
   "cell_type": "code",
   "execution_count": 23,
   "id": "204c202a-01a8-44fa-9b06-f48166917284",
   "metadata": {},
   "outputs": [],
   "source": [
    "vector = cv.fit_transform(new_df['tag']).toarray()"
   ]
  },
  {
   "cell_type": "code",
   "execution_count": 25,
   "id": "b48b6218-731c-4e96-a485-813978b554a9",
   "metadata": {},
   "outputs": [],
   "source": [
    "from sklearn.metrics.pairwise import cosine_similarity"
   ]
  },
  {
   "cell_type": "code",
   "execution_count": 26,
   "id": "10f1a60d-79de-4799-b10b-eb5e81d3c29c",
   "metadata": {},
   "outputs": [],
   "source": [
    "similarity = cosine_similarity(vector)"
   ]
  },
  {
   "cell_type": "code",
   "execution_count": 36,
   "id": "610ff67f-0b30-4526-b6e5-a9a89d7c7f0c",
   "metadata": {},
   "outputs": [],
   "source": [
    "def recommend(model):\n",
    "    index = result[result['Model'] == model].index[0]\n",
    "    distances = sorted(list(enumerate(similarity[index])), reverse=True, key = lambda x: x[1])\n",
    "    for i in distances[1:4]:\n",
    "        print(new_df.iloc[i[0]]['Model'])"
   ]
  },
  {
   "cell_type": "code",
   "execution_count": 37,
   "id": "619deebd-b945-44c8-b475-fbcefe73127c",
   "metadata": {},
   "outputs": [
    {
     "name": "stdout",
     "output_type": "stream",
     "text": [
      "CC-9011205-WWCO-9050015-BLED\n",
      "CARBIDE SPEC-05ACFAN00170A\n",
      "4000D AirflowACFAN00118A\n"
     ]
    }
   ],
   "source": [
    "recommend('Carbide SPEC-Omega')"
   ]
  },
  {
   "cell_type": "code",
   "execution_count": 39,
   "id": "9ce7fae5-2bf1-486d-9d10-6a48b4753d7e",
   "metadata": {},
   "outputs": [],
   "source": [
    "import pickle\n",
    "new_df = new_df.reset_index()\n",
    "\n",
    "pickle.dump(result, open('artificats/component_list.pkl', 'wb'))\n",
    "pickle.dump(similarity, open('artificats/similarity.pkl', 'wb'))"
   ]
  },
  {
   "cell_type": "code",
   "execution_count": null,
   "id": "a88cebcf-da1d-4980-b57b-a283cd07dc50",
   "metadata": {},
   "outputs": [],
   "source": []
  },
  {
   "cell_type": "code",
   "execution_count": null,
   "id": "3c5d0aac-755d-4a9e-99c0-ec8be40800a4",
   "metadata": {},
   "outputs": [],
   "source": []
  },
  {
   "cell_type": "code",
   "execution_count": null,
   "id": "f6785161-ca0b-47e5-8603-58006fbd328f",
   "metadata": {},
   "outputs": [],
   "source": []
  },
  {
   "cell_type": "code",
   "execution_count": null,
   "id": "31ee8f12-74b8-486e-aabe-77caf1ed8da2",
   "metadata": {},
   "outputs": [],
   "source": []
  },
  {
   "cell_type": "code",
   "execution_count": null,
   "id": "5ef1008f-17f2-496b-b440-360772371f3f",
   "metadata": {},
   "outputs": [],
   "source": []
  },
  {
   "cell_type": "code",
   "execution_count": null,
   "id": "3c2f5bba-b20c-4f1c-8998-cade6d4d3ff2",
   "metadata": {},
   "outputs": [],
   "source": []
  },
  {
   "cell_type": "code",
   "execution_count": null,
   "id": "96a4d471-c9dd-4c41-8744-de96cd3fc409",
   "metadata": {},
   "outputs": [],
   "source": []
  },
  {
   "cell_type": "code",
   "execution_count": null,
   "id": "3ec4e11e-18d8-48d8-bb04-0ba51b35478d",
   "metadata": {},
   "outputs": [],
   "source": []
  },
  {
   "cell_type": "code",
   "execution_count": null,
   "id": "33be5d4d-a839-4be6-b3eb-21d068b9badc",
   "metadata": {},
   "outputs": [],
   "source": []
  },
  {
   "cell_type": "code",
   "execution_count": null,
   "id": "5274cfe5-7cd6-4155-a800-2e1c97ebe752",
   "metadata": {},
   "outputs": [],
   "source": []
  },
  {
   "cell_type": "code",
   "execution_count": null,
   "id": "79753464-d873-4c0e-88ba-e6c747a526f6",
   "metadata": {},
   "outputs": [],
   "source": []
  },
  {
   "cell_type": "code",
   "execution_count": null,
   "id": "e4ebbc98-8acb-47e4-aa6f-bad35eec8e6d",
   "metadata": {},
   "outputs": [],
   "source": []
  },
  {
   "cell_type": "code",
   "execution_count": null,
   "id": "9431119a-e4d9-4a49-8b4e-2d9407e4bd95",
   "metadata": {},
   "outputs": [],
   "source": []
  },
  {
   "cell_type": "code",
   "execution_count": null,
   "id": "0b7f8469-eb6d-4d33-ad77-e6bc790bd7c6",
   "metadata": {},
   "outputs": [],
   "source": []
  }
 ],
 "metadata": {
  "kernelspec": {
   "display_name": "Python 3 (ipykernel)",
   "language": "python",
   "name": "python3"
  },
  "language_info": {
   "codemirror_mode": {
    "name": "ipython",
    "version": 3
   },
   "file_extension": ".py",
   "mimetype": "text/x-python",
   "name": "python",
   "nbconvert_exporter": "python",
   "pygments_lexer": "ipython3",
   "version": "3.11.7"
  }
 },
 "nbformat": 4,
 "nbformat_minor": 5
}
